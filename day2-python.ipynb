{
 "cells": [
  {
   "cell_type": "code",
   "execution_count": null,
   "id": "6dc833cd",
   "metadata": {},
   "outputs": [],
   "source": [
    "Introduction to python programming:"
   ]
  },
  {
   "cell_type": "code",
   "execution_count": null,
   "id": "4a679468",
   "metadata": {},
   "outputs": [],
   "source": [
    "Understanding variables in python:"
   ]
  },
  {
   "cell_type": "code",
   "execution_count": 7,
   "id": "acf5ded7",
   "metadata": {},
   "outputs": [],
   "source": [
    "x= 2\n",
    "y= 2"
   ]
  },
  {
   "cell_type": "code",
   "execution_count": 15,
   "id": "bc23804d",
   "metadata": {},
   "outputs": [
    {
     "name": "stdout",
     "output_type": "stream",
     "text": [
      "4\n"
     ]
    }
   ],
   "source": [
    "z=x+y\n",
    "print(z)"
   ]
  },
  {
   "cell_type": "code",
   "execution_count": 12,
   "id": "58fb5fb1",
   "metadata": {},
   "outputs": [
    {
     "ename": "SyntaxError",
     "evalue": "invalid decimal literal (3986132060.py, line 2)",
     "output_type": "error",
     "traceback": [
      "\u001b[0;36m  Cell \u001b[0;32mIn[12], line 2\u001b[0;36m\u001b[0m\n\u001b[0;31m    1.No name spaces while declaring the variable names\u001b[0m\n\u001b[0m     ^\u001b[0m\n\u001b[0;31mSyntaxError\u001b[0m\u001b[0;31m:\u001b[0m invalid decimal literal\n"
     ]
    }
   ],
   "source": [
    "Rules for declaring the variables in python:\n",
    "    1.No name spaces while declaring the variable names\n",
    "    2.A variable name should not start with a number **\n",
    "    3.\n",
    "    "
   ]
  },
  {
   "cell_type": "code",
   "execution_count": 12,
   "id": "d95eccb8",
   "metadata": {},
   "outputs": [
    {
     "ename": "SyntaxError",
     "evalue": "invalid decimal literal (3986132060.py, line 2)",
     "output_type": "error",
     "traceback": [
      "\u001b[0;36m  Cell \u001b[0;32mIn[12], line 2\u001b[0;36m\u001b[0m\n\u001b[0;31m    1.No name spaces while declaring the variable names\u001b[0m\n\u001b[0m     ^\u001b[0m\n\u001b[0;31mSyntaxError\u001b[0m\u001b[0;31m:\u001b[0m invalid decimal literal\n"
     ]
    }
   ],
   "source": [
    "Rules for declaring the variables in python:\n",
    "    1.No name spaces while declaring the variable names\n",
    "    2.A variable name should not start with a number **\n",
    "    3.A variable name should not contain any special characters\n",
    "    "
   ]
  },
  {
   "cell_type": "code",
   "execution_count": 5,
   "id": "90e61f98",
   "metadata": {},
   "outputs": [
    {
     "name": "stdout",
     "output_type": "stream",
     "text": [
      "Poornima\n"
     ]
    }
   ],
   "source": [
    "firstname='Poornima'\n",
    "print(firstname)"
   ]
  },
  {
   "cell_type": "code",
   "execution_count": 16,
   "id": "72d3074f",
   "metadata": {},
   "outputs": [
    {
     "name": "stdout",
     "output_type": "stream",
     "text": [
      "poo\n"
     ]
    }
   ],
   "source": [
    "name1='poo'\n",
    "print(name1)"
   ]
  },
  {
   "cell_type": "code",
   "execution_count": 17,
   "id": "6df49ebb",
   "metadata": {},
   "outputs": [
    {
     "ename": "SyntaxError",
     "evalue": "invalid syntax (3225099436.py, line 2)",
     "output_type": "error",
     "traceback": [
      "\u001b[0;36m  Cell \u001b[0;32mIn[17], line 2\u001b[0;36m\u001b[0m\n\u001b[0;31m    print(name@)\u001b[0m\n\u001b[0m               ^\u001b[0m\n\u001b[0;31mSyntaxError\u001b[0m\u001b[0;31m:\u001b[0m invalid syntax\n"
     ]
    }
   ],
   "source": [
    "name@='babu'\n",
    "print(name@)"
   ]
  },
  {
   "cell_type": "code",
   "execution_count": null,
   "id": "9b451ff6",
   "metadata": {},
   "outputs": [],
   "source": [
    "Introduction to datatypes in python:\n",
    "    1.string------->str\n",
    "    2.numbers------>int and float\n",
    "    3.list\n",
    "    4.tuple\n",
    "    5.dictionaries->dict\n",
    "    "
   ]
  },
  {
   "cell_type": "code",
   "execution_count": null,
   "id": "ce055513",
   "metadata": {},
   "outputs": [],
   "source": [
    "Classification of datatypes:\n",
    "    Broadly data types are classified into two diff. categories:\n",
    "        1.Mutable datatype--->which are flexible in nature-->we can edit/alter\n",
    "        2.Immutable datatype->which are fixed in nature----->which will not be able to alter /edit"
   ]
  },
  {
   "cell_type": "code",
   "execution_count": null,
   "id": "b80fc922",
   "metadata": {},
   "outputs": [],
   "source": [
    "Introduction to string datatype:\n",
    "    1.defintion: A string is nothing but a series of characters enclose with quotes.\n",
    "    2.classification: It is classified as an immutable datatype\n",
    "    3.how to define string?\n",
    "       *Using single quote''\n",
    "       *using double quote \"\"\n",
    "    \n",
    "    eg:\n",
    "        name='poo'\n",
    "        name=\"poo\"    "
   ]
  },
  {
   "cell_type": "code",
   "execution_count": 20,
   "id": "588394fa",
   "metadata": {},
   "outputs": [
    {
     "data": {
      "text/plain": [
       "str"
      ]
     },
     "execution_count": 20,
     "metadata": {},
     "output_type": "execute_result"
    }
   ],
   "source": [
    "#Introduction to string methods:\n",
    "\n",
    "name='poo'\n",
    "type(name)"
   ]
  },
  {
   "cell_type": "code",
   "execution_count": 21,
   "id": "44dac45e",
   "metadata": {},
   "outputs": [
    {
     "name": "stdout",
     "output_type": "stream",
     "text": [
      "poornima chandrasekar\n"
     ]
    }
   ],
   "source": [
    "fullname='poornima chandrasekar'\n",
    "print(fullname)"
   ]
  },
  {
   "cell_type": "code",
   "execution_count": 22,
   "id": "5ebd5bf0",
   "metadata": {},
   "outputs": [
    {
     "name": "stdout",
     "output_type": "stream",
     "text": [
      "Poornima Chandrasekar\n"
     ]
    }
   ],
   "source": [
    "print(fullname.title())"
   ]
  },
  {
   "cell_type": "code",
   "execution_count": null,
   "id": "85cd6f8e",
   "metadata": {},
   "outputs": [],
   "source": [
    "#requirment:want to convert the entire name into capital and small letters"
   ]
  },
  {
   "cell_type": "code",
   "execution_count": 23,
   "id": "d0e6cd7a",
   "metadata": {},
   "outputs": [
    {
     "name": "stdout",
     "output_type": "stream",
     "text": [
      "POORNIMA CHANDRASEKAR\n"
     ]
    }
   ],
   "source": [
    "print(fullname.upper())"
   ]
  },
  {
   "cell_type": "code",
   "execution_count": 24,
   "id": "d52d5002",
   "metadata": {},
   "outputs": [
    {
     "name": "stdout",
     "output_type": "stream",
     "text": [
      "poornima chandrasekar\n"
     ]
    }
   ],
   "source": [
    "print(fullname.lower())"
   ]
  },
  {
   "cell_type": "code",
   "execution_count": null,
   "id": "f6a19bb4",
   "metadata": {},
   "outputs": [],
   "source": []
  }
 ],
 "metadata": {
  "kernelspec": {
   "display_name": "Python 3 (ipykernel)",
   "language": "python",
   "name": "python3"
  },
  "language_info": {
   "codemirror_mode": {
    "name": "ipython",
    "version": 3
   },
   "file_extension": ".py",
   "mimetype": "text/x-python",
   "name": "python",
   "nbconvert_exporter": "python",
   "pygments_lexer": "ipython3",
   "version": "3.11.5"
  }
 },
 "nbformat": 4,
 "nbformat_minor": 5
}
